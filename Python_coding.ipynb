{
  "nbformat": 4,
  "nbformat_minor": 0,
  "metadata": {
    "colab": {
      "provenance": [],
      "authorship_tag": "ABX9TyNUIGEuBsxRVGPiclwTtvgg",
      "include_colab_link": true
    },
    "kernelspec": {
      "name": "python3",
      "display_name": "Python 3"
    },
    "language_info": {
      "name": "python"
    }
  },
  "cells": [
    {
      "cell_type": "markdown",
      "metadata": {
        "id": "view-in-github",
        "colab_type": "text"
      },
      "source": [
        "<a href=\"https://colab.research.google.com/github/Robertsingh04/Python_Coding_Study_Materails/blob/main/Python_coding.ipynb\" target=\"_parent\"><img src=\"https://colab.research.google.com/assets/colab-badge.svg\" alt=\"Open In Colab\"/></a>"
      ]
    },
    {
      "cell_type": "markdown",
      "source": [
        "**Introduction and setup**"
      ],
      "metadata": {
        "id": "qoZyBAdQ97b4"
      }
    },
    {
      "cell_type": "code",
      "source": [
        "# Q1)Write a Python program to print \"Hello, World!\"\n",
        "print(\"Hello, World!\")\n"
      ],
      "metadata": {
        "colab": {
          "base_uri": "https://localhost:8080/"
        },
        "id": "5a2TQ-o5-CVi",
        "outputId": "dd7b0417-7b51-4f8a-fbad-02dbb166cb8a"
      },
      "execution_count": 2,
      "outputs": [
        {
          "output_type": "stream",
          "name": "stdout",
          "text": [
            "Hello, World!\n"
          ]
        }
      ]
    },
    {
      "cell_type": "code",
      "source": [
        "# Q2)Calculate the sum of two numbers entered by the user\n",
        "\n",
        "\n",
        "# Taking input from the user for the first number\n",
        "num1 = float(input(\"Enter the first number: \"))\n",
        "\n",
        "# Taking input from the user for the second number\n",
        "num2 = float(input(\"Enter the second number: \"))\n",
        "\n",
        "# Calculating the sum\n",
        "sum = num1 + num2\n",
        "\n",
        "# Printing the result\n",
        "print(\"The sum of\", num1, \"and\", num2, \"is:\", sum)\n"
      ],
      "metadata": {
        "colab": {
          "base_uri": "https://localhost:8080/"
        },
        "id": "KxslbtFo-uBw",
        "outputId": "99a76779-310d-458c-d77b-27f9a9aeb8ec"
      },
      "execution_count": 3,
      "outputs": [
        {
          "output_type": "stream",
          "name": "stdout",
          "text": [
            "Enter the first number: 4\n",
            "Enter the second number: 5\n",
            "The sum of 4.0 and 5.0 is: 9.0\n"
          ]
        }
      ]
    },
    {
      "cell_type": "code",
      "source": [
        "# Q3)Convert temperature from Celsius to Fahrenheit\n",
        "\n",
        "# Taking input from the user for temperature in Celsius\n",
        "celsius = float(input(\"Enter temperature in Celsius: \"))\n",
        "\n",
        "# Converting Celsius to Fahrenheit\n",
        "fahrenheit = (celsius * 9/5) + 32\n",
        "\n",
        "# Printing the result\n",
        "print(\"Temperature in Fahrenheit:\", fahrenheit)\n"
      ],
      "metadata": {
        "colab": {
          "base_uri": "https://localhost:8080/"
        },
        "id": "6HaXMKUr_KC9",
        "outputId": "8a9fc455-5de9-466b-90cd-4387b793bd15"
      },
      "execution_count": 5,
      "outputs": [
        {
          "output_type": "stream",
          "name": "stdout",
          "text": [
            "Enter temperature in Celsius: 78\n",
            "Temperature in Fahrenheit: 172.4\n"
          ]
        }
      ]
    },
    {
      "cell_type": "code",
      "source": [
        "# Q4)Write a Python program to calculate the area of a rectangle given its length and width\n",
        "\n",
        "# Taking input from the user for length and width\n",
        "length = float(input(\"Enter the length of the rectangle: \"))\n",
        "width = float(input(\"Enter the width of the rectangle: \"))\n",
        "\n",
        "# Calculating the area\n",
        "area = length * width\n",
        "\n",
        "# Printing the result\n",
        "print(\"The area of the rectangle with length\", length, \"and width\", width, \"is:\", area)\n"
      ],
      "metadata": {
        "colab": {
          "base_uri": "https://localhost:8080/"
        },
        "id": "kDR8lhRJ_02S",
        "outputId": "0ee932c2-c8c0-4fa0-c4cb-f124a4fd0119"
      },
      "execution_count": 6,
      "outputs": [
        {
          "output_type": "stream",
          "name": "stdout",
          "text": [
            "Enter the length of the rectangle: 45\n",
            "Enter the width of the rectangle: 6\n",
            "The area of the rectangle with length 45.0 and width 6.0 is: 270.0\n"
          ]
        }
      ]
    },
    {
      "cell_type": "code",
      "source": [
        "# Q5)Create a program that takes a user's name and age as input and prints a greeting message\n",
        "\n",
        "# Taking input from the user for name and age\n",
        "name = input(\"Enter your name: \")\n",
        "age = int(input(\"Enter your age: \"))\n",
        "\n",
        "# Printing the greeting message\n",
        "print(\"Hello,\", name + \"!\", \"You are\", age, \"years old.\")\n"
      ],
      "metadata": {
        "colab": {
          "base_uri": "https://localhost:8080/"
        },
        "id": "EBvUqaYnAr0z",
        "outputId": "297a6a4a-8989-4228-fb61-c781d4d29d39"
      },
      "execution_count": 7,
      "outputs": [
        {
          "output_type": "stream",
          "name": "stdout",
          "text": [
            "Enter your name: Robert Singh\n",
            "Enter your age: 25\n",
            "Hello, Robert Singh! You are 25 years old.\n"
          ]
        }
      ]
    },
    {
      "cell_type": "code",
      "source": [
        "# Q6)Write a program to check if a number is even or odd\n",
        "\n",
        "# Taking input from the user for the number\n",
        "number = int(input(\"Enter a number: \"))\n",
        "\n",
        "# Checking if the number is even or odd\n",
        "if number % 2 == 0:\n",
        "    print(number, \"is even.\")\n",
        "else:\n",
        "    print(number, \"is odd.\")\n"
      ],
      "metadata": {
        "colab": {
          "base_uri": "https://localhost:8080/"
        },
        "id": "UcEk-N5HBSft",
        "outputId": "a3570d69-9b20-44d1-edb3-874e3c20b253"
      },
      "execution_count": 8,
      "outputs": [
        {
          "output_type": "stream",
          "name": "stdout",
          "text": [
            "Enter a number: 123\n",
            "123 is odd.\n"
          ]
        }
      ]
    },
    {
      "cell_type": "code",
      "source": [
        "# Q7)Given a list of numbers, find the maximum and minimum values\n",
        "\n",
        "# Define a list of numbers\n",
        "numbers = [23, 56, 12, 87, 43, 9]\n",
        "\n",
        "# Find the maximum and minimum values\n",
        "maximum_value = max(numbers)\n",
        "minimum_value = min(numbers)\n",
        "\n",
        "# Print the results\n",
        "print(\"Maximum value:\", maximum_value)\n",
        "print(\"Minimum value:\", minimum_value)\n"
      ],
      "metadata": {
        "colab": {
          "base_uri": "https://localhost:8080/"
        },
        "id": "KH_nXztLBsOg",
        "outputId": "a79aa6e7-21a2-41ee-e23b-32e800eb1554"
      },
      "execution_count": 9,
      "outputs": [
        {
          "output_type": "stream",
          "name": "stdout",
          "text": [
            "Maximum value: 87\n",
            "Minimum value: 9\n"
          ]
        }
      ]
    },
    {
      "cell_type": "code",
      "source": [
        "# Q8)Create a Python function to check if a given string is a palindrome\n",
        "\n",
        "def is_palindrome(s):\n",
        "    \"\"\"\n",
        "    Function to check if a given string is a palindrome.\n",
        "\n",
        "    Parameters:\n",
        "    s (str): The string to check\n",
        "\n",
        "    Returns:\n",
        "    bool: True if the string is a palindrome, False otherwise\n",
        "    \"\"\"\n",
        "    # Remove spaces and convert to lowercase\n",
        "    s = s.replace(\" \", \"\").lower()\n",
        "\n",
        "    # Check if the string is equal to its reverse\n",
        "    return s == s[::-1]\n",
        "\n",
        "# Test the function\n",
        "input_string = input(\"Enter a string: \")\n",
        "if is_palindrome(input_string):\n",
        "    print(\"Yes, it's a palindrome!\")\n",
        "else:\n",
        "    print(\"No, it's not a palindrome.\")\n"
      ],
      "metadata": {
        "colab": {
          "base_uri": "https://localhost:8080/"
        },
        "id": "llR2Mq3ZCCVK",
        "outputId": "f37dc34b-f41a-482c-8c8d-65a839a4a67e"
      },
      "execution_count": 17,
      "outputs": [
        {
          "output_type": "stream",
          "name": "stdout",
          "text": [
            "Enter a string: malayalam\n",
            "Yes, it's a palindrome!\n"
          ]
        }
      ]
    },
    {
      "cell_type": "code",
      "source": [
        "# Q9)Calculate the compound interest for a given principal amount, interest rate, and time period\n",
        "\n",
        "def compound_interest(principal, rate, time, comp_per_year):\n",
        "    \"\"\"\n",
        "    Function to calculate compound interest.\n",
        "\n",
        "    Parameters:\n",
        "    principal (float): The principal amount\n",
        "    rate (float): The annual interest rate (in decimal)\n",
        "    time (float): The time period the money is invested for, in years\n",
        "    comp_per_year (int): The number of times interest is compounded per year\n",
        "\n",
        "    Returns:\n",
        "    float: The compound interest\n",
        "    \"\"\"\n",
        "    # Calculate compound interest\n",
        "    amount = principal * ((1 + rate / comp_per_year) ** (comp_per_year * time))\n",
        "    interest = amount - principal\n",
        "    return interest\n",
        "\n",
        "# Test the function\n",
        "principal_amount = float(input(\"Enter the principal amount: \"))\n",
        "interest_rate = float(input(\"Enter the annual interest rate (in decimal): \"))\n",
        "time_period = float(input(\"Enter the time period in years: \"))\n",
        "compounded_per_year = int(input(\"Enter the number of times interest is compounded per year: \"))\n",
        "\n",
        "interest = compound_interest(principal_amount, interest_rate, time_period, compounded_per_year)\n",
        "print(\"Compound interest:\", round(interest, 2))\n"
      ],
      "metadata": {
        "colab": {
          "base_uri": "https://localhost:8080/"
        },
        "id": "li5Xj0kSCczp",
        "outputId": "539685a3-cfa0-4004-b9c6-a33a69097ebd"
      },
      "execution_count": 11,
      "outputs": [
        {
          "output_type": "stream",
          "name": "stdout",
          "text": [
            "Enter the principal amount: 34597\n",
            "Enter the annual interest rate (in decimal): 8\n",
            "Enter the time period in years: 2\n",
            "Enter the number of times interest is compounded per year: 12\n",
            "Compound interest: 7301403917.5\n"
          ]
        }
      ]
    },
    {
      "cell_type": "code",
      "source": [
        "# Q10) Write a program that converts a given number of days into years, weeks, and day\n",
        "\n",
        "def convert_days(days):\n",
        "    \"\"\"\n",
        "    Function to convert a given number of days into years, weeks, and days.\n",
        "\n",
        "    Parameters:\n",
        "    days (int): The number of days to convert\n",
        "\n",
        "    Returns:\n",
        "    tuple: A tuple containing the number of years, weeks, and days\n",
        "    \"\"\"\n",
        "    years = days // 365\n",
        "    remaining_days = days % 365\n",
        "    weeks = remaining_days // 7\n",
        "    remaining_days %= 7\n",
        "\n",
        "    return years, weeks, remaining_days\n",
        "\n",
        "# Test the function\n",
        "total_days = int(input(\"Enter the number of days: \"))\n",
        "years, weeks, days = convert_days(total_days)\n",
        "\n",
        "print(\"Years:\", years)\n",
        "print(\"Weeks:\", weeks)\n",
        "print(\"Days:\", days)\n"
      ],
      "metadata": {
        "colab": {
          "base_uri": "https://localhost:8080/"
        },
        "id": "nZ8JFG8dDEDk",
        "outputId": "405e6a92-b91b-464e-d345-b29d84ce4b8d"
      },
      "execution_count": 12,
      "outputs": [
        {
          "output_type": "stream",
          "name": "stdout",
          "text": [
            "Enter the number of days: 45\n",
            "Years: 0\n",
            "Weeks: 6\n",
            "Days: 3\n"
          ]
        }
      ]
    },
    {
      "cell_type": "code",
      "source": [
        "# Q11) Given a list of integers, find the sum of all positive numbers\n",
        "\n",
        "def sum_of_positive_numbers(numbers):\n",
        "    \"\"\"\n",
        "    Function to find the sum of all positive numbers in a list.\n",
        "\n",
        "    Parameters:\n",
        "    numbers (list of int): The list of integers\n",
        "\n",
        "    Returns:\n",
        "    int: The sum of all positive numbers\n",
        "    \"\"\"\n",
        "    sum_positive = 0\n",
        "    for num in numbers:\n",
        "        if num > 0:\n",
        "            sum_positive += num\n",
        "    return sum_positive\n",
        "\n",
        "# Test the function\n",
        "numbers = [10, -5, 8, -3, 7, -2, 9]\n",
        "result = sum_of_positive_numbers(numbers)\n",
        "print(\"Sum of positive numbers:\", result)\n"
      ],
      "metadata": {
        "colab": {
          "base_uri": "https://localhost:8080/"
        },
        "id": "BSoLaAyyDkSX",
        "outputId": "4293128a-6412-463b-ff5b-8f8a562eaa5b"
      },
      "execution_count": 13,
      "outputs": [
        {
          "output_type": "stream",
          "name": "stdout",
          "text": [
            "Sum of positive numbers: 34\n"
          ]
        }
      ]
    },
    {
      "cell_type": "code",
      "source": [
        "# Q12)Create a program that takes a sentence as input and counts the number of words in it\n",
        "\n",
        "def count_words(sentence):\n",
        "    \"\"\"\n",
        "    Function to count the number of words in a sentence.\n",
        "\n",
        "    Parameters:\n",
        "    sentence (str): The input sentence\n",
        "\n",
        "    Returns:\n",
        "    int: The number of words in the sentence\n",
        "    \"\"\"\n",
        "    # Split the sentence into words using whitespace as separator\n",
        "    words = sentence.split()\n",
        "    # Return the number of words\n",
        "    return len(words)\n",
        "\n",
        "# Test the function\n",
        "input_sentence = input(\"Enter a sentence: \")\n",
        "word_count = count_words(input_sentence)\n",
        "print(\"Number of words in the sentence:\", word_count)\n"
      ],
      "metadata": {
        "colab": {
          "base_uri": "https://localhost:8080/"
        },
        "id": "pgm5G838EAGw",
        "outputId": "254a1127-75ae-4cb4-ca7f-5954ec44eab1"
      },
      "execution_count": 15,
      "outputs": [
        {
          "output_type": "stream",
          "name": "stdout",
          "text": [
            "Enter a sentence: Robert singh is very smart\n",
            "Number of words in the sentence: 5\n"
          ]
        }
      ]
    },
    {
      "cell_type": "code",
      "source": [
        "# Q13)Implement a program that swaps the values of two variable\n",
        "\n",
        "def swap_variables(a, b):\n",
        "    \"\"\"\n",
        "    Function to swap the values of two variables.\n",
        "\n",
        "    Parameters:\n",
        "    a: The first variable\n",
        "    b: The second variable\n",
        "\n",
        "    Returns:\n",
        "    tuple: A tuple containing the swapped values of the variables\n",
        "    \"\"\"\n",
        "    # Swapping the values\n",
        "    a, b = b, a\n",
        "    return a, b\n",
        "\n",
        "# Test the function\n",
        "var1 = input(\"Enter the value for variable 1: \")\n",
        "var2 = input(\"Enter the value for variable 2: \")\n",
        "\n",
        "print(\"Before swapping:\")\n",
        "print(\"Variable 1:\", var1)\n",
        "print(\"Variable 2:\", var2)\n",
        "\n",
        "var1, var2 = swap_variables(var1, var2)\n",
        "\n",
        "print(\"After swapping:\")\n",
        "print(\"Variable 1:\", var1)\n",
        "print(\"Variable 2:\", var2)\n"
      ],
      "metadata": {
        "colab": {
          "base_uri": "https://localhost:8080/"
        },
        "id": "83bhaxpPEYvM",
        "outputId": "d1366314-5458-46b6-eb9a-7034bfc71221"
      },
      "execution_count": 16,
      "outputs": [
        {
          "output_type": "stream",
          "name": "stdout",
          "text": [
            "Enter the value for variable 1: robert\n",
            "Enter the value for variable 2: singh\n",
            "Before swapping:\n",
            "Variable 1: robert\n",
            "Variable 2: singh\n",
            "After swapping:\n",
            "Variable 1: singh\n",
            "Variable 2: robert\n"
          ]
        }
      ]
    },
    {
      "cell_type": "markdown",
      "source": [
        "**Variables and Data types**"
      ],
      "metadata": {
        "id": "3GVCvpu3fSBV"
      }
    },
    {
      "cell_type": "code",
      "source": [
        "# Q1)Create variables for storing a person's name, age, and average test score.\n",
        "person_name = \"John Doe\"\n",
        "person_age = 25\n",
        "average_test_score = 85.5\n"
      ],
      "metadata": {
        "id": "cX5Nd8jBfcvr"
      },
      "execution_count": 1,
      "outputs": []
    },
    {
      "cell_type": "code",
      "source": [
        "# Q2)Concatenate two strings and print the result.\n",
        "\n",
        "string1 = \"Hello, \"\n",
        "string2 = \"world!\"\n",
        "\n",
        "concatenated_string = string1 + string2\n",
        "print(concatenated_string)\n"
      ],
      "metadata": {
        "colab": {
          "base_uri": "https://localhost:8080/"
        },
        "id": "RRQKKrBuf_g0",
        "outputId": "4fa3c36d-3390-48c8-da53-cfaf33615bae"
      },
      "execution_count": 2,
      "outputs": [
        {
          "output_type": "stream",
          "name": "stdout",
          "text": [
            "Hello, world!\n"
          ]
        }
      ]
    },
    {
      "cell_type": "code",
      "source": [
        "# Q3) Create a list of fruits and access elements using indexing\n",
        "\n",
        "fruits = [\"apple\", \"banana\", \"orange\", \"grape\", \"watermelon\"]\n",
        "\n",
        "# Accessing elements using indexing\n",
        "first_fruit = fruits[0]\n",
        "second_fruit = fruits[1]\n",
        "third_fruit = fruits[2]\n",
        "\n",
        "print(\"First fruit:\", first_fruit)\n",
        "print(\"Second fruit:\", second_fruit)\n",
        "print(\"Third fruit:\", third_fruit)\n"
      ],
      "metadata": {
        "colab": {
          "base_uri": "https://localhost:8080/"
        },
        "id": "ASiZOcGOgWFl",
        "outputId": "a5852372-792f-4212-cd8f-d666f83f3d98"
      },
      "execution_count": 3,
      "outputs": [
        {
          "output_type": "stream",
          "name": "stdout",
          "text": [
            "First fruit: apple\n",
            "Second fruit: banana\n",
            "Third fruit: orange\n"
          ]
        }
      ]
    },
    {
      "cell_type": "code",
      "source": [
        "# Q4) Given a list of numbers, find the sum and average'\n",
        "\n",
        "numbers = [10, 20, 30, 40, 50]\n",
        "\n",
        "# Calculate sum\n",
        "sum_of_numbers = sum(numbers)\n",
        "\n",
        "# Calculate average\n",
        "average_of_numbers = sum_of_numbers / len(numbers)\n",
        "\n",
        "print(\"Sum of numbers:\", sum_of_numbers)\n",
        "print(\"Average of numbers:\", average_of_numbers)\n"
      ],
      "metadata": {
        "colab": {
          "base_uri": "https://localhost:8080/"
        },
        "id": "IMxPvSr3gymW",
        "outputId": "7c26bd6b-0552-4283-e86b-6f2fc31e0dfc"
      },
      "execution_count": 4,
      "outputs": [
        {
          "output_type": "stream",
          "name": "stdout",
          "text": [
            "Sum of numbers: 150\n",
            "Average of numbers: 30.0\n"
          ]
        }
      ]
    },
    {
      "cell_type": "code",
      "source": [
        "# Q5)Create a program that takes a temperature in Celsius and converts it to Kelvin'\n",
        "\n",
        "def celsius_to_kelvin(celsius):\n",
        "    kelvin = celsius + 273.15\n",
        "    return kelvin\n",
        "\n",
        "celsius_temperature = float(input(\"Enter the temperature in Celsius: \"))\n",
        "\n",
        "kelvin_temperature = celsius_to_kelvin(celsius_temperature)\n",
        "\n",
        "print(\"Temperature in Kelvin:\", kelvin_temperature)\n"
      ],
      "metadata": {
        "colab": {
          "base_uri": "https://localhost:8080/"
        },
        "id": "BWXASNGhg-GH",
        "outputId": "80b67729-1aed-4a79-db68-8de92b680c85"
      },
      "execution_count": 5,
      "outputs": [
        {
          "output_type": "stream",
          "name": "stdout",
          "text": [
            "Enter the temperature in Celsius: 78\n",
            "Temperature in Kelvin: 351.15\n"
          ]
        }
      ]
    },
    {
      "cell_type": "code",
      "source": [
        "# Q6)Implement a program that checks if a given string is a palindrome'\n",
        "\n",
        "def is_palindrome(s):\n",
        "    # Remove spaces and convert to lowercase\n",
        "    s = s.replace(\" \", \"\").lower()\n",
        "    # Check if the string is equal to its reverse\n",
        "    return s == s[::-1]\n",
        "\n",
        "# Test the function\n",
        "input_string = input(\"Enter a string: \")\n",
        "if is_palindrome(input_string):\n",
        "    print(\"The string is a palindrome.\")\n",
        "else:\n",
        "    print(\"The string is not a palindrome.\")\n"
      ],
      "metadata": {
        "id": "KIvo-lPDhScX"
      },
      "execution_count": null,
      "outputs": []
    },
    {
      "cell_type": "code",
      "source": [
        "# Q7)Create a function to reverse a given string\n",
        "\n",
        "def reverse_string(input_string):\n",
        "    # Using slicing to reverse the string\n",
        "    reversed_string = input_string[::-1]\n",
        "    return reversed_string\n",
        "\n",
        "# Test the function\n",
        "input_string = input(\"Enter a string: \")\n",
        "reversed_string = reverse_string(input_string)\n",
        "print(\"Reversed string:\", reversed_string)\n"
      ],
      "metadata": {
        "id": "LK0g6MWijwsc"
      },
      "execution_count": null,
      "outputs": []
    },
    {
      "cell_type": "code",
      "source": [
        "# Q8)Given a list of names, concatenate them into a single string separated by spaces'\n",
        "\n",
        "def concatenate_names(names):\n",
        "    concatenated_string = \" \".join(names)\n",
        "    return concatenated_string\n",
        "\n",
        "# Test the function\n",
        "names_list = [\"Alice\", \"Bob\", \"Charlie\", \"David\"]\n",
        "concatenated_names = concatenate_names(names_list)\n",
        "print(\"Concatenated names:\", concatenated_names)\n"
      ],
      "metadata": {
        "id": "rZ969ji0kDUC"
      },
      "execution_count": null,
      "outputs": []
    },
    {
      "cell_type": "code",
      "source": [
        "# Q9)Write a Python program to check if a given string is a pangram (contains all letters of the alphabet)'\n",
        "\n",
        "import string\n",
        "\n",
        "def is_pangram(input_string):\n",
        "    alphabet = set(string.ascii_lowercase)\n",
        "    # Convert input string to lowercase and remove non-alphabetic characters\n",
        "    input_string = input_string.lower()\n",
        "    input_string = ''.join(filter(str.isalpha, input_string))\n",
        "    # Check if all letters in the alphabet are present in the input string\n",
        "    return set(input_string) >= alphabet\n",
        "\n",
        "# Test the function\n",
        "input_string = input(\"Enter a string: \")\n",
        "if is_pangram(input_string):\n",
        "    print(\"The string is a pangram.\")\n",
        "else:\n",
        "    print(\"The string is not a pangram.\")\n"
      ],
      "metadata": {
        "id": "PjDKdqy6kTGR"
      },
      "execution_count": null,
      "outputs": []
    },
    {
      "cell_type": "code",
      "source": [
        "# Q10)Calculate the area and circumference of a circle given its radius'\n",
        "\n",
        "import math\n",
        "\n",
        "def calculate_circle_properties(radius):\n",
        "    # Calculate area\n",
        "    area = math.pi * radius ** 2\n",
        "    # Calculate circumference\n",
        "    circumference = 2 * math.pi * radius\n",
        "    return area, circumference\n",
        "\n",
        "# Test the function\n",
        "radius = float(input(\"Enter the radius of the circle: \"))\n",
        "area, circumference = calculate_circle_properties(radius)\n",
        "\n",
        "print(\"Area of the circle:\", area)\n",
        "print(\"Circumference of the circle:\", circumference)\n"
      ],
      "metadata": {
        "id": "f4h27gSpkoHn"
      },
      "execution_count": null,
      "outputs": []
    },
    {
      "cell_type": "code",
      "source": [
        "# Q11)Implement a program that converts a given number of minutes into hours and minutes'\n",
        "\n",
        "def minutes_to_hours_minutes(minutes):\n",
        "    # Calculate hours and remaining minutes\n",
        "    hours = minutes // 60\n",
        "    remaining_minutes = minutes % 60\n",
        "    return hours, remaining_minutes\n",
        "\n",
        "# Test the function\n",
        "input_minutes = int(input(\"Enter the number of minutes: \"))\n",
        "hours, remaining_minutes = minutes_to_hours_minutes(input_minutes)\n",
        "\n",
        "print(f\"{input_minutes} minutes is equal to {hours} hours and {remaining_minutes} minutes.\")\n",
        "\n"
      ],
      "metadata": {
        "id": "w2YmIErokzqe"
      },
      "execution_count": null,
      "outputs": []
    },
    {
      "cell_type": "code",
      "source": [
        "# Q12)Create a function to count the number of vowels in a given string\n",
        "\n",
        "def count_vowels(input_string):\n",
        "    # Define a set of vowels\n",
        "    vowels = {'a', 'e', 'i', 'o', 'u'}\n",
        "    # Convert input string to lowercase for case insensitivity\n",
        "    input_string = input_string.lower()\n",
        "    # Count the number of vowels in the input string\n",
        "    vowel_count = sum(1 for char in input_string if char in vowels)\n",
        "    return vowel_count\n",
        "\n",
        "# Test the function\n",
        "input_string = input(\"Enter a string: \")\n",
        "vowel_count = count_vowels(input_string)\n",
        "print(\"Number of vowels:\", vowel_count)\n"
      ],
      "metadata": {
        "id": "xILZ4i9Vk2vb"
      },
      "execution_count": null,
      "outputs": []
    },
    {
      "cell_type": "code",
      "source": [
        "# Q13)Write a program to check if a number is prime\n",
        "\n",
        "def is_prime(number):\n",
        "    if number <= 1:\n",
        "        return False\n",
        "    if number == 2:\n",
        "        return True\n",
        "    if number % 2 == 0:\n",
        "        return False\n",
        "    for i in range(3, int(number**0.5) + 1, 2):\n",
        "        if number % i == 0:\n",
        "            return False\n",
        "    return True\n",
        "\n",
        "# Test the function\n",
        "input_number = int(input(\"Enter a number: \"))\n",
        "if is_prime(input_number):\n",
        "    print(f\"{input_number} is a prime number.\")\n",
        "else:\n",
        "    print(f\"{input_number} is not a prime number.\")\n"
      ],
      "metadata": {
        "id": "3B5x3FNSk69o"
      },
      "execution_count": null,
      "outputs": []
    },
    {
      "cell_type": "markdown",
      "source": [
        "**CONTROL FLOW AND LOOPS**"
      ],
      "metadata": {
        "id": "sUKOOwcnpwB5"
      }
    },
    {
      "cell_type": "code",
      "source": [
        "# Q1)Write a program that checks if a given number is positive, negative, or zero\n",
        "\n",
        "def check_number(num):\n",
        "    if num > 0:\n",
        "        return \"The number is positive.\"\n",
        "    elif num < 0:\n",
        "        return \"The number is negative.\"\n",
        "    else:\n",
        "        return \"The number is zero.\"\n",
        "\n",
        "# Example usage\n",
        "number = float(input(\"Enter a number: \"))\n",
        "result = check_number(number)\n",
        "print(result)\n"
      ],
      "metadata": {
        "colab": {
          "base_uri": "https://localhost:8080/"
        },
        "id": "2ctV4xR1qAE6",
        "outputId": "ef863c93-4e3d-4d46-f239-0bfb0dccd892"
      },
      "execution_count": 6,
      "outputs": [
        {
          "output_type": "stream",
          "name": "stdout",
          "text": [
            "Enter a number: -45\n",
            "The number is negative.\n"
          ]
        }
      ]
    },
    {
      "cell_type": "code",
      "source": [
        "# Q2) Create a loop that prints the first 10 even numbers\n",
        "\n",
        "def print_first_10_even_numbers():\n",
        "    count = 0\n",
        "    number = 2\n",
        "    while count < 10:\n",
        "        print(number)\n",
        "        number += 2\n",
        "        count += 1\n",
        "\n",
        "# Call the function\n",
        "print_first_10_even_numbers()\n"
      ],
      "metadata": {
        "colab": {
          "base_uri": "https://localhost:8080/"
        },
        "id": "g7fLJOEAqjAL",
        "outputId": "af39576b-4b62-4f2d-e252-61ff6bed2db5"
      },
      "execution_count": 7,
      "outputs": [
        {
          "output_type": "stream",
          "name": "stdout",
          "text": [
            "2\n",
            "4\n",
            "6\n",
            "8\n",
            "10\n",
            "12\n",
            "14\n",
            "16\n",
            "18\n",
            "20\n"
          ]
        }
      ]
    },
    {
      "cell_type": "code",
      "source": [
        "# Q3) Implement a program that finds the largest number in a list.\n",
        "\n",
        "def find_largest_number(numbers):\n",
        "    if not numbers:  # Check if the list is empty\n",
        "        return None  # Return None if the list is empty\n",
        "\n",
        "    largest = numbers[0]  # Assume the first number is the largest to start\n",
        "    for num in numbers:\n",
        "        if num > largest:\n",
        "            largest = num\n",
        "    return largest\n",
        "\n",
        "# Example usage\n",
        "numbers_list = [10, 20, 4, 45, 99, 0, -5, 67]\n",
        "largest_number = find_largest_number(numbers_list)\n",
        "if largest_number is not None:\n",
        "    print(f\"The largest number in the list is: {largest_number}\")\n",
        "else:\n",
        "    print(\"The list is empty.\")\n"
      ],
      "metadata": {
        "colab": {
          "base_uri": "https://localhost:8080/"
        },
        "id": "3XbcBbV2rFaw",
        "outputId": "e44b488e-70a4-4f0b-9e9d-aff1c0040376"
      },
      "execution_count": 8,
      "outputs": [
        {
          "output_type": "stream",
          "name": "stdout",
          "text": [
            "The largest number in the list is: 99\n"
          ]
        }
      ]
    },
    {
      "cell_type": "code",
      "source": [
        "# Q4)Create a program that takes a year as input and checks if it is a leap year or not\n",
        "\n",
        "def is_leap_year(year):\n",
        "    if (year % 4 == 0 and year % 100 != 0) or (year % 400 == 0):\n",
        "        return True\n",
        "    else:\n",
        "        return False\n",
        "\n",
        "# Example usage\n",
        "year = int(input(\"Enter a year: \"))\n",
        "if is_leap_year(year):\n",
        "    print(f\"{year} is a leap year.\")\n",
        "else:\n",
        "    print(f\"{year} is not a leap year.\")\n"
      ],
      "metadata": {
        "colab": {
          "base_uri": "https://localhost:8080/"
        },
        "id": "C-fkmAigrNdr",
        "outputId": "1447e931-4faf-495a-d52e-cbbdb423f5d6"
      },
      "execution_count": 9,
      "outputs": [
        {
          "output_type": "stream",
          "name": "stdout",
          "text": [
            "Enter a year: 2022\n",
            "2022 is not a leap year.\n"
          ]
        }
      ]
    },
    {
      "cell_type": "code",
      "source": [
        "# Q5)Given a list of integers, find all the even numbers and store them in a new list\n",
        "\n",
        "def find_even_numbers(numbers):\n",
        "    even_numbers = []\n",
        "    for num in numbers:\n",
        "        if num % 2 == 0:\n",
        "            even_numbers.append(num)\n",
        "    return even_numbers\n",
        "\n",
        "# Example usage\n",
        "numbers_list = [10, 21, 4, 45, 66, 93, 0, -5, 78]\n",
        "even_numbers_list = find_even_numbers(numbers_list)\n",
        "print(f\"The even numbers in the list are: {even_numbers_list}\")\n"
      ],
      "metadata": {
        "colab": {
          "base_uri": "https://localhost:8080/"
        },
        "id": "-f864juIrQbC",
        "outputId": "9e433cb2-fb41-49dc-cd90-e7fd5fec6bc3"
      },
      "execution_count": 10,
      "outputs": [
        {
          "output_type": "stream",
          "name": "stdout",
          "text": [
            "The even numbers in the list are: [10, 4, 66, 0, 78]\n"
          ]
        }
      ]
    },
    {
      "cell_type": "code",
      "source": [
        "# Q6)Write a Python program to check if a given number is a prime number\n",
        "\n",
        "def is_prime(number):\n",
        "    if number <= 1:\n",
        "        return False\n",
        "    if number <= 3:\n",
        "        return True\n",
        "    if number % 2 == 0 or number % 3 == 0:\n",
        "        return False\n",
        "    i = 5\n",
        "    while i * i <= number:\n",
        "        if number % i == 0 or number % (i + 2) == 0:\n",
        "            return False\n",
        "        i += 6\n",
        "    return True\n",
        "\n",
        "# Example usage\n",
        "number = int(input(\"Enter a number: \"))\n",
        "if is_prime(number):\n",
        "    print(f\"{number} is a prime number.\")\n",
        "else:\n",
        "    print(f\"{number} is not a prime number.\")\n"
      ],
      "metadata": {
        "colab": {
          "base_uri": "https://localhost:8080/"
        },
        "id": "L79WMaoMrT14",
        "outputId": "b417ab1e-325e-494d-c13b-308eeb58faf9"
      },
      "execution_count": 11,
      "outputs": [
        {
          "output_type": "stream",
          "name": "stdout",
          "text": [
            "Enter a number: 346\n",
            "346 is not a prime number.\n"
          ]
        }
      ]
    },
    {
      "cell_type": "code",
      "source": [
        "# Q7)Create a program that generates the Fibonacci sequence up to a given number of terms\n",
        "\n",
        "def generate_fibonacci(n_terms):\n",
        "    fibonacci_sequence = []\n",
        "    a, b = 0, 1\n",
        "    for _ in range(n_terms):\n",
        "        fibonacci_sequence.append(a)\n",
        "        a, b = b, a + b\n",
        "    return fibonacci_sequence\n",
        "\n",
        "# Example usage\n",
        "n_terms = int(input(\"Enter the number of terms: \"))\n",
        "if n_terms <= 0:\n",
        "    print(\"Please enter a positive integer.\")\n",
        "else:\n",
        "    fibonacci_sequence = generate_fibonacci(n_terms)\n",
        "    print(f\"Fibonacci sequence up to {n_terms} terms: {fibonacci_sequence}\")\n"
      ],
      "metadata": {
        "colab": {
          "base_uri": "https://localhost:8080/"
        },
        "id": "ykyAp95KrwP8",
        "outputId": "da13d41d-113a-4d6b-fb62-ab6a2833e98c"
      },
      "execution_count": 13,
      "outputs": [
        {
          "output_type": "stream",
          "name": "stdout",
          "text": [
            "Enter the number of terms: 5\n",
            "Fibonacci sequence up to 5 terms: [0, 1, 1, 2, 3]\n"
          ]
        }
      ]
    },
    {
      "cell_type": "code",
      "source": [
        "# Q8)Given a list of names, print all names starting with the letter 'A\n",
        "\n",
        "def print_names_starting_with_A(names):\n",
        "    for name in names:\n",
        "        if name.startswith('A'):\n",
        "            print(name)\n",
        "\n",
        "# Example usage\n",
        "names_list = [\"Alice\", \"Bob\", \"Amanda\", \"Charlie\", \"Angela\", \"Brian\"]\n",
        "print(\"Names starting with the letter 'A':\")\n",
        "print_names_starting_with_A(names_list)\n"
      ],
      "metadata": {
        "colab": {
          "base_uri": "https://localhost:8080/"
        },
        "id": "VSLRH_zwr1kF",
        "outputId": "dc3174db-8650-4bbb-d324-a1135b391fae"
      },
      "execution_count": 14,
      "outputs": [
        {
          "output_type": "stream",
          "name": "stdout",
          "text": [
            "Names starting with the letter 'A':\n",
            "Alice\n",
            "Amanda\n",
            "Angela\n"
          ]
        }
      ]
    },
    {
      "cell_type": "code",
      "source": [
        "# Q9)Implement a program that prints the multiplication table of a given number\n",
        "\n",
        "def print_multiplication_table(number, up_to=10):\n",
        "    for i in range(1, up_to + 1):\n",
        "        print(f\"{number} x {i} = {number * i}\")\n",
        "\n",
        "# Example usage\n",
        "number = int(input(\"Enter a number: \"))\n",
        "print(f\"Multiplication table for {number}:\")\n",
        "print_multiplication_table(number)\n"
      ],
      "metadata": {
        "colab": {
          "base_uri": "https://localhost:8080/"
        },
        "id": "UIYZeJhWr4Ls",
        "outputId": "d2e2b2ef-c15c-4567-c68d-a26211358fec"
      },
      "execution_count": 15,
      "outputs": [
        {
          "output_type": "stream",
          "name": "stdout",
          "text": [
            "Enter a number: 4\n",
            "Multiplication table for 4:\n",
            "4 x 1 = 4\n",
            "4 x 2 = 8\n",
            "4 x 3 = 12\n",
            "4 x 4 = 16\n",
            "4 x 5 = 20\n",
            "4 x 6 = 24\n",
            "4 x 7 = 28\n",
            "4 x 8 = 32\n",
            "4 x 9 = 36\n",
            "4 x 10 = 40\n"
          ]
        }
      ]
    },
    {
      "cell_type": "code",
      "source": [
        "# Q10)Write a program that calculates the factorial of a given number\n",
        "\n",
        "def calculate_factorial(number):\n",
        "    factorial = 1\n",
        "    if number < 0:\n",
        "        return \"Factorial is not defined for negative numbers.\"\n",
        "    elif number == 0:\n",
        "        return 1\n",
        "    else:\n",
        "        for i in range(1, number + 1):\n",
        "            factorial *= i\n",
        "        return factorial\n",
        "\n",
        "# Example usage\n",
        "number = int(input(\"Enter a number: \"))\n",
        "result = calculate_factorial(number)\n",
        "print(f\"The factorial of {number} is: {result}\")\n"
      ],
      "metadata": {
        "colab": {
          "base_uri": "https://localhost:8080/"
        },
        "id": "AMJPW44Nr6k5",
        "outputId": "887ede64-d4e1-4aef-f18a-fdda5b751572"
      },
      "execution_count": 16,
      "outputs": [
        {
          "output_type": "stream",
          "name": "stdout",
          "text": [
            "Enter a number: 34\n",
            "The factorial of 34 is: 295232799039604140847618609643520000000\n"
          ]
        }
      ]
    },
    {
      "cell_type": "code",
      "source": [
        "# Q11)Create a loop that prints all prime numbers between 1 and 50\n",
        "\n",
        "def is_prime(number):\n",
        "    if number <= 1:\n",
        "        return False\n",
        "    if number <= 3:\n",
        "        return True\n",
        "    if number % 2 == 0 or number % 3 == 0:\n",
        "        return False\n",
        "    i = 5\n",
        "    while i * i <= number:\n",
        "        if number % i == 0 or number % (i + 2) == 0:\n",
        "            return False\n",
        "        i += 6\n",
        "    return True\n",
        "\n",
        "# Loop to print prime numbers between 1 and 50\n",
        "print(\"Prime numbers between 1 and 50:\")\n",
        "for num in range(1, 51):\n",
        "    if is_prime(num):\n",
        "        print(num, end=\" \")\n"
      ],
      "metadata": {
        "colab": {
          "base_uri": "https://localhost:8080/"
        },
        "id": "9TDF2aJ8r98_",
        "outputId": "fbc66374-008d-48cc-bb3b-7e1320f092b6"
      },
      "execution_count": 19,
      "outputs": [
        {
          "output_type": "stream",
          "name": "stdout",
          "text": [
            "Prime numbers between 1 and 50:\n",
            "2 3 5 7 11 13 17 19 23 29 31 37 41 43 47 "
          ]
        }
      ]
    },
    {
      "cell_type": "code",
      "source": [
        "# Q12)Given a list of words, count the number of words with more than five characters\n",
        "\n",
        "def count_words_with_more_than_five_characters(words):\n",
        "    count = 0\n",
        "    for word in words:\n",
        "        if len(word) > 5:\n",
        "            count += 1\n",
        "    return count\n",
        "\n",
        "# Example usage\n",
        "words_list = [\"apple\", \"banana\", \"orange\", \"kiwi\", \"watermelon\", \"strawberry\"]\n",
        "count = count_words_with_more_than_five_characters(words_list)\n",
        "print(f\"Number of words with more than five characters: {count}\")\n"
      ],
      "metadata": {
        "colab": {
          "base_uri": "https://localhost:8080/"
        },
        "id": "a5xoXmdNsAbs",
        "outputId": "de6b6fc6-6608-4923-d198-aa7828ce6bb3"
      },
      "execution_count": 18,
      "outputs": [
        {
          "output_type": "stream",
          "name": "stdout",
          "text": [
            "Number of words with more than five characters: 4\n"
          ]
        }
      ]
    },
    {
      "cell_type": "code",
      "source": [
        "# Q13)Calculate the sum of digits of a given number\n",
        "\n",
        "def sum_of_digits(number):\n",
        "    # Convert the number to a string to iterate over its digits\n",
        "    num_str = str(number)\n",
        "    # Initialize sum\n",
        "    total_sum = 0\n",
        "    # Iterate over each digit and add it to the sum\n",
        "    for digit in num_str:\n",
        "        total_sum += int(digit)\n",
        "    return total_sum\n",
        "\n",
        "# Example usage\n",
        "number = int(input(\"Enter a number: \"))\n",
        "result = sum_of_digits(number)\n",
        "print(f\"The sum of digits of {number} is: {result}\")\n"
      ],
      "metadata": {
        "colab": {
          "base_uri": "https://localhost:8080/"
        },
        "id": "Y3-_8_9FsCs8",
        "outputId": "f5636b82-7eff-4641-a092-150ebeb1bf20"
      },
      "execution_count": 17,
      "outputs": [
        {
          "output_type": "stream",
          "name": "stdout",
          "text": [
            "Enter a number: 345\n",
            "The sum of digits of 345 is: 12\n"
          ]
        }
      ]
    }
  ]
}