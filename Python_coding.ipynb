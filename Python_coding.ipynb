{
  "nbformat": 4,
  "nbformat_minor": 0,
  "metadata": {
    "colab": {
      "provenance": [],
      "authorship_tag": "ABX9TyOxcsczlfxOpIUrg+fqX4mR",
      "include_colab_link": true
    },
    "kernelspec": {
      "name": "python3",
      "display_name": "Python 3"
    },
    "language_info": {
      "name": "python"
    }
  },
  "cells": [
    {
      "cell_type": "markdown",
      "metadata": {
        "id": "view-in-github",
        "colab_type": "text"
      },
      "source": [
        "<a href=\"https://colab.research.google.com/github/Robertsingh04/Python_Coding_Study_Materails/blob/main/Python_coding.ipynb\" target=\"_parent\"><img src=\"https://colab.research.google.com/assets/colab-badge.svg\" alt=\"Open In Colab\"/></a>"
      ]
    },
    {
      "cell_type": "markdown",
      "source": [
        "**Introduction and setup**"
      ],
      "metadata": {
        "id": "qoZyBAdQ97b4"
      }
    },
    {
      "cell_type": "code",
      "source": [
        "# Q1)Write a Python program to print \"Hello, World!\"\n",
        "print(\"Hello, World!\")\n"
      ],
      "metadata": {
        "colab": {
          "base_uri": "https://localhost:8080/"
        },
        "id": "5a2TQ-o5-CVi",
        "outputId": "dd7b0417-7b51-4f8a-fbad-02dbb166cb8a"
      },
      "execution_count": 2,
      "outputs": [
        {
          "output_type": "stream",
          "name": "stdout",
          "text": [
            "Hello, World!\n"
          ]
        }
      ]
    },
    {
      "cell_type": "code",
      "source": [
        "# Q2)Calculate the sum of two numbers entered by the user\n",
        "\n",
        "\n",
        "# Taking input from the user for the first number\n",
        "num1 = float(input(\"Enter the first number: \"))\n",
        "\n",
        "# Taking input from the user for the second number\n",
        "num2 = float(input(\"Enter the second number: \"))\n",
        "\n",
        "# Calculating the sum\n",
        "sum = num1 + num2\n",
        "\n",
        "# Printing the result\n",
        "print(\"The sum of\", num1, \"and\", num2, \"is:\", sum)\n"
      ],
      "metadata": {
        "colab": {
          "base_uri": "https://localhost:8080/"
        },
        "id": "KxslbtFo-uBw",
        "outputId": "99a76779-310d-458c-d77b-27f9a9aeb8ec"
      },
      "execution_count": 3,
      "outputs": [
        {
          "output_type": "stream",
          "name": "stdout",
          "text": [
            "Enter the first number: 4\n",
            "Enter the second number: 5\n",
            "The sum of 4.0 and 5.0 is: 9.0\n"
          ]
        }
      ]
    },
    {
      "cell_type": "code",
      "source": [
        "# Q3)Convert temperature from Celsius to Fahrenheit\n",
        "\n",
        "# Taking input from the user for temperature in Celsius\n",
        "celsius = float(input(\"Enter temperature in Celsius: \"))\n",
        "\n",
        "# Converting Celsius to Fahrenheit\n",
        "fahrenheit = (celsius * 9/5) + 32\n",
        "\n",
        "# Printing the result\n",
        "print(\"Temperature in Fahrenheit:\", fahrenheit)\n"
      ],
      "metadata": {
        "colab": {
          "base_uri": "https://localhost:8080/"
        },
        "id": "6HaXMKUr_KC9",
        "outputId": "8a9fc455-5de9-466b-90cd-4387b793bd15"
      },
      "execution_count": 5,
      "outputs": [
        {
          "output_type": "stream",
          "name": "stdout",
          "text": [
            "Enter temperature in Celsius: 78\n",
            "Temperature in Fahrenheit: 172.4\n"
          ]
        }
      ]
    },
    {
      "cell_type": "code",
      "source": [
        "# Q4)Write a Python program to calculate the area of a rectangle given its length and width\n",
        "\n",
        "# Taking input from the user for length and width\n",
        "length = float(input(\"Enter the length of the rectangle: \"))\n",
        "width = float(input(\"Enter the width of the rectangle: \"))\n",
        "\n",
        "# Calculating the area\n",
        "area = length * width\n",
        "\n",
        "# Printing the result\n",
        "print(\"The area of the rectangle with length\", length, \"and width\", width, \"is:\", area)\n"
      ],
      "metadata": {
        "colab": {
          "base_uri": "https://localhost:8080/"
        },
        "id": "kDR8lhRJ_02S",
        "outputId": "0ee932c2-c8c0-4fa0-c4cb-f124a4fd0119"
      },
      "execution_count": 6,
      "outputs": [
        {
          "output_type": "stream",
          "name": "stdout",
          "text": [
            "Enter the length of the rectangle: 45\n",
            "Enter the width of the rectangle: 6\n",
            "The area of the rectangle with length 45.0 and width 6.0 is: 270.0\n"
          ]
        }
      ]
    },
    {
      "cell_type": "code",
      "source": [
        "# Q5)Create a program that takes a user's name and age as input and prints a greeting message\n",
        "\n",
        "# Taking input from the user for name and age\n",
        "name = input(\"Enter your name: \")\n",
        "age = int(input(\"Enter your age: \"))\n",
        "\n",
        "# Printing the greeting message\n",
        "print(\"Hello,\", name + \"!\", \"You are\", age, \"years old.\")\n"
      ],
      "metadata": {
        "colab": {
          "base_uri": "https://localhost:8080/"
        },
        "id": "EBvUqaYnAr0z",
        "outputId": "297a6a4a-8989-4228-fb61-c781d4d29d39"
      },
      "execution_count": 7,
      "outputs": [
        {
          "output_type": "stream",
          "name": "stdout",
          "text": [
            "Enter your name: Robert Singh\n",
            "Enter your age: 25\n",
            "Hello, Robert Singh! You are 25 years old.\n"
          ]
        }
      ]
    },
    {
      "cell_type": "code",
      "source": [
        "# Q6)Write a program to check if a number is even or odd\n",
        "\n",
        "# Taking input from the user for the number\n",
        "number = int(input(\"Enter a number: \"))\n",
        "\n",
        "# Checking if the number is even or odd\n",
        "if number % 2 == 0:\n",
        "    print(number, \"is even.\")\n",
        "else:\n",
        "    print(number, \"is odd.\")\n"
      ],
      "metadata": {
        "colab": {
          "base_uri": "https://localhost:8080/"
        },
        "id": "UcEk-N5HBSft",
        "outputId": "a3570d69-9b20-44d1-edb3-874e3c20b253"
      },
      "execution_count": 8,
      "outputs": [
        {
          "output_type": "stream",
          "name": "stdout",
          "text": [
            "Enter a number: 123\n",
            "123 is odd.\n"
          ]
        }
      ]
    },
    {
      "cell_type": "code",
      "source": [
        "# Q7)Given a list of numbers, find the maximum and minimum values\n",
        "\n",
        "# Define a list of numbers\n",
        "numbers = [23, 56, 12, 87, 43, 9]\n",
        "\n",
        "# Find the maximum and minimum values\n",
        "maximum_value = max(numbers)\n",
        "minimum_value = min(numbers)\n",
        "\n",
        "# Print the results\n",
        "print(\"Maximum value:\", maximum_value)\n",
        "print(\"Minimum value:\", minimum_value)\n"
      ],
      "metadata": {
        "colab": {
          "base_uri": "https://localhost:8080/"
        },
        "id": "KH_nXztLBsOg",
        "outputId": "a79aa6e7-21a2-41ee-e23b-32e800eb1554"
      },
      "execution_count": 9,
      "outputs": [
        {
          "output_type": "stream",
          "name": "stdout",
          "text": [
            "Maximum value: 87\n",
            "Minimum value: 9\n"
          ]
        }
      ]
    },
    {
      "cell_type": "code",
      "source": [
        "# Q8)Create a Python function to check if a given string is a palindrome\n",
        "\n",
        "def is_palindrome(s):\n",
        "    \"\"\"\n",
        "    Function to check if a given string is a palindrome.\n",
        "\n",
        "    Parameters:\n",
        "    s (str): The string to check\n",
        "\n",
        "    Returns:\n",
        "    bool: True if the string is a palindrome, False otherwise\n",
        "    \"\"\"\n",
        "    # Remove spaces and convert to lowercase\n",
        "    s = s.replace(\" \", \"\").lower()\n",
        "\n",
        "    # Check if the string is equal to its reverse\n",
        "    return s == s[::-1]\n",
        "\n",
        "# Test the function\n",
        "input_string = input(\"Enter a string: \")\n",
        "if is_palindrome(input_string):\n",
        "    print(\"Yes, it's a palindrome!\")\n",
        "else:\n",
        "    print(\"No, it's not a palindrome.\")\n"
      ],
      "metadata": {
        "colab": {
          "base_uri": "https://localhost:8080/"
        },
        "id": "llR2Mq3ZCCVK",
        "outputId": "f37dc34b-f41a-482c-8c8d-65a839a4a67e"
      },
      "execution_count": 17,
      "outputs": [
        {
          "output_type": "stream",
          "name": "stdout",
          "text": [
            "Enter a string: malayalam\n",
            "Yes, it's a palindrome!\n"
          ]
        }
      ]
    },
    {
      "cell_type": "code",
      "source": [
        "# Q9)Calculate the compound interest for a given principal amount, interest rate, and time period\n",
        "\n",
        "def compound_interest(principal, rate, time, comp_per_year):\n",
        "    \"\"\"\n",
        "    Function to calculate compound interest.\n",
        "\n",
        "    Parameters:\n",
        "    principal (float): The principal amount\n",
        "    rate (float): The annual interest rate (in decimal)\n",
        "    time (float): The time period the money is invested for, in years\n",
        "    comp_per_year (int): The number of times interest is compounded per year\n",
        "\n",
        "    Returns:\n",
        "    float: The compound interest\n",
        "    \"\"\"\n",
        "    # Calculate compound interest\n",
        "    amount = principal * ((1 + rate / comp_per_year) ** (comp_per_year * time))\n",
        "    interest = amount - principal\n",
        "    return interest\n",
        "\n",
        "# Test the function\n",
        "principal_amount = float(input(\"Enter the principal amount: \"))\n",
        "interest_rate = float(input(\"Enter the annual interest rate (in decimal): \"))\n",
        "time_period = float(input(\"Enter the time period in years: \"))\n",
        "compounded_per_year = int(input(\"Enter the number of times interest is compounded per year: \"))\n",
        "\n",
        "interest = compound_interest(principal_amount, interest_rate, time_period, compounded_per_year)\n",
        "print(\"Compound interest:\", round(interest, 2))\n"
      ],
      "metadata": {
        "colab": {
          "base_uri": "https://localhost:8080/"
        },
        "id": "li5Xj0kSCczp",
        "outputId": "539685a3-cfa0-4004-b9c6-a33a69097ebd"
      },
      "execution_count": 11,
      "outputs": [
        {
          "output_type": "stream",
          "name": "stdout",
          "text": [
            "Enter the principal amount: 34597\n",
            "Enter the annual interest rate (in decimal): 8\n",
            "Enter the time period in years: 2\n",
            "Enter the number of times interest is compounded per year: 12\n",
            "Compound interest: 7301403917.5\n"
          ]
        }
      ]
    },
    {
      "cell_type": "code",
      "source": [
        "# Q10) Write a program that converts a given number of days into years, weeks, and day\n",
        "\n",
        "def convert_days(days):\n",
        "    \"\"\"\n",
        "    Function to convert a given number of days into years, weeks, and days.\n",
        "\n",
        "    Parameters:\n",
        "    days (int): The number of days to convert\n",
        "\n",
        "    Returns:\n",
        "    tuple: A tuple containing the number of years, weeks, and days\n",
        "    \"\"\"\n",
        "    years = days // 365\n",
        "    remaining_days = days % 365\n",
        "    weeks = remaining_days // 7\n",
        "    remaining_days %= 7\n",
        "\n",
        "    return years, weeks, remaining_days\n",
        "\n",
        "# Test the function\n",
        "total_days = int(input(\"Enter the number of days: \"))\n",
        "years, weeks, days = convert_days(total_days)\n",
        "\n",
        "print(\"Years:\", years)\n",
        "print(\"Weeks:\", weeks)\n",
        "print(\"Days:\", days)\n"
      ],
      "metadata": {
        "colab": {
          "base_uri": "https://localhost:8080/"
        },
        "id": "nZ8JFG8dDEDk",
        "outputId": "405e6a92-b91b-464e-d345-b29d84ce4b8d"
      },
      "execution_count": 12,
      "outputs": [
        {
          "output_type": "stream",
          "name": "stdout",
          "text": [
            "Enter the number of days: 45\n",
            "Years: 0\n",
            "Weeks: 6\n",
            "Days: 3\n"
          ]
        }
      ]
    },
    {
      "cell_type": "code",
      "source": [
        "# Q11) Given a list of integers, find the sum of all positive numbers\n",
        "\n",
        "def sum_of_positive_numbers(numbers):\n",
        "    \"\"\"\n",
        "    Function to find the sum of all positive numbers in a list.\n",
        "\n",
        "    Parameters:\n",
        "    numbers (list of int): The list of integers\n",
        "\n",
        "    Returns:\n",
        "    int: The sum of all positive numbers\n",
        "    \"\"\"\n",
        "    sum_positive = 0\n",
        "    for num in numbers:\n",
        "        if num > 0:\n",
        "            sum_positive += num\n",
        "    return sum_positive\n",
        "\n",
        "# Test the function\n",
        "numbers = [10, -5, 8, -3, 7, -2, 9]\n",
        "result = sum_of_positive_numbers(numbers)\n",
        "print(\"Sum of positive numbers:\", result)\n"
      ],
      "metadata": {
        "colab": {
          "base_uri": "https://localhost:8080/"
        },
        "id": "BSoLaAyyDkSX",
        "outputId": "4293128a-6412-463b-ff5b-8f8a562eaa5b"
      },
      "execution_count": 13,
      "outputs": [
        {
          "output_type": "stream",
          "name": "stdout",
          "text": [
            "Sum of positive numbers: 34\n"
          ]
        }
      ]
    },
    {
      "cell_type": "code",
      "source": [
        "# Q12)Create a program that takes a sentence as input and counts the number of words in it\n",
        "\n",
        "def count_words(sentence):\n",
        "    \"\"\"\n",
        "    Function to count the number of words in a sentence.\n",
        "\n",
        "    Parameters:\n",
        "    sentence (str): The input sentence\n",
        "\n",
        "    Returns:\n",
        "    int: The number of words in the sentence\n",
        "    \"\"\"\n",
        "    # Split the sentence into words using whitespace as separator\n",
        "    words = sentence.split()\n",
        "    # Return the number of words\n",
        "    return len(words)\n",
        "\n",
        "# Test the function\n",
        "input_sentence = input(\"Enter a sentence: \")\n",
        "word_count = count_words(input_sentence)\n",
        "print(\"Number of words in the sentence:\", word_count)\n"
      ],
      "metadata": {
        "colab": {
          "base_uri": "https://localhost:8080/"
        },
        "id": "pgm5G838EAGw",
        "outputId": "254a1127-75ae-4cb4-ca7f-5954ec44eab1"
      },
      "execution_count": 15,
      "outputs": [
        {
          "output_type": "stream",
          "name": "stdout",
          "text": [
            "Enter a sentence: Robert singh is very smart\n",
            "Number of words in the sentence: 5\n"
          ]
        }
      ]
    },
    {
      "cell_type": "code",
      "source": [
        "# Q13)Implement a program that swaps the values of two variable\n",
        "\n",
        "def swap_variables(a, b):\n",
        "    \"\"\"\n",
        "    Function to swap the values of two variables.\n",
        "\n",
        "    Parameters:\n",
        "    a: The first variable\n",
        "    b: The second variable\n",
        "\n",
        "    Returns:\n",
        "    tuple: A tuple containing the swapped values of the variables\n",
        "    \"\"\"\n",
        "    # Swapping the values\n",
        "    a, b = b, a\n",
        "    return a, b\n",
        "\n",
        "# Test the function\n",
        "var1 = input(\"Enter the value for variable 1: \")\n",
        "var2 = input(\"Enter the value for variable 2: \")\n",
        "\n",
        "print(\"Before swapping:\")\n",
        "print(\"Variable 1:\", var1)\n",
        "print(\"Variable 2:\", var2)\n",
        "\n",
        "var1, var2 = swap_variables(var1, var2)\n",
        "\n",
        "print(\"After swapping:\")\n",
        "print(\"Variable 1:\", var1)\n",
        "print(\"Variable 2:\", var2)\n"
      ],
      "metadata": {
        "colab": {
          "base_uri": "https://localhost:8080/"
        },
        "id": "83bhaxpPEYvM",
        "outputId": "d1366314-5458-46b6-eb9a-7034bfc71221"
      },
      "execution_count": 16,
      "outputs": [
        {
          "output_type": "stream",
          "name": "stdout",
          "text": [
            "Enter the value for variable 1: robert\n",
            "Enter the value for variable 2: singh\n",
            "Before swapping:\n",
            "Variable 1: robert\n",
            "Variable 2: singh\n",
            "After swapping:\n",
            "Variable 1: singh\n",
            "Variable 2: robert\n"
          ]
        }
      ]
    }
  ]
}